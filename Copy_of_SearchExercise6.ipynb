{
  "cells": [
    {
      "cell_type": "markdown",
      "metadata": {
        "id": "view-in-github",
        "colab_type": "text"
      },
      "source": [
        "<a href=\"https://colab.research.google.com/github/sc21jr-fouritchhorse/comp2611/blob/main/Copy_of_SearchExercise6.ipynb\" target=\"_parent\"><img src=\"https://colab.research.google.com/assets/colab-badge.svg\" alt=\"Open In Colab\"/></a>"
      ]
    },
    {
      "cell_type": "code",
      "execution_count": 36,
      "metadata": {
        "colab": {
          "base_uri": "https://localhost:8080/"
        },
        "id": "hRKYLHGtWO0n",
        "outputId": "8dfb4a23-1519-4e13-8b2e-7676890c0aea"
      },
      "outputs": [
        {
          "output_type": "stream",
          "name": "stdout",
          "text": [
            "  % Total    % Received % Xferd  Average Speed   Time    Time     Time  Current\n",
            "                                 Dload  Upload   Total   Spent    Left  Speed\n",
            "100 18767  100 18767    0     0  59201      0 --:--:-- --:--:-- --:--:-- 59201\n"
          ]
        }
      ],
      "source": [
        "!mkdir -p bbmodcache\n",
        "!curl http://bb-ai.net.s3.amazonaws.com/bb-python-modules/bbSearch.py > bbmodcache/bbSearch.py\n",
        "from bbmodcache.bbSearch import SearchProblem, search"
      ]
    },
    {
      "cell_type": "code",
      "execution_count": 37,
      "metadata": {
        "id": "1E5lbhDaWO0o"
      },
      "outputs": [],
      "source": [
        "## A couple of possible goal states:\n",
        "NORMAL_GOAL = [ [1,2,3],\n",
        "                [4,5,6],\n",
        "                [7,8,0] ]\n",
        "\n",
        "SPIRAL_GOAL = [ [1,2,3],\n",
        "                [8,0,4],\n",
        "                [7,6,5] ]\n",
        "\n",
        "### Declarations of some example states\n",
        "LAYOUT_0 = [ [1,5,2],\n",
        "             [0,4,3],\n",
        "             [7,8,6] ]\n",
        "\n",
        "LAYOUT_1 = [ [5,1,7],\n",
        "             [2,4,8],\n",
        "             [6,3,0] ] \n",
        "\n",
        "LAYOUT_2 = [ [2,6,3],\n",
        "             [4,0,5],\n",
        "             [1,8,7] ] \n",
        "\n",
        "LAYOUT_3 = [ [7,2,5],\n",
        "             [4,8,1],\n",
        "             [3,0,6] ] \n",
        "\n",
        "LAYOUT_4 = [ [8,6,7],  \n",
        "             [2,5,4],\n",
        "             [3,0,1] ] "
      ]
    },
    {
      "cell_type": "code",
      "execution_count": 38,
      "metadata": {
        "id": "AlFlkB3PWO0q"
      },
      "outputs": [],
      "source": [
        "def number_position_in_layout( n, layout):\n",
        "    for i, row in enumerate(layout):\n",
        "        for j, val in enumerate(row):\n",
        "            if val==n:\n",
        "                return (i,j)"
      ]
    },
    {
      "cell_type": "code",
      "execution_count": 39,
      "metadata": {
        "id": "H4y5H4brWO0t"
      },
      "outputs": [],
      "source": [
        "from copy import deepcopy\n",
        "\n",
        "class EightPuzzle( SearchProblem ):\n",
        "        \n",
        "    action_dict = {\n",
        "        (0,0) : [(1, 0, 'up'),    (0, 1, 'left')],\n",
        "        (0,1) : [(0, 0, 'right'), (1, 1, 'up'),    (0, 2, 'left')],\n",
        "        (0,2) : [(0, 1, 'right'), (1, 2, 'up')],\n",
        "        (1,0) : [(0, 0, 'down'),  (1, 1, 'left'),  (2, 0, 'up')],\n",
        "        (1,1) : [(1, 0, 'right'), (0, 1, 'down'),  (1, 2, 'left'), (2, 1, 'up')],\n",
        "        (1,2) : [(0, 2, 'down'),  (1, 1, 'right'), (2, 2, 'up')],\n",
        "        (2,0) : [(1, 0, 'down'),  (2, 1, 'left')],\n",
        "        (2,1) : [(2, 0, 'right'), (1, 1, 'down'),  (2, 2, 'left')],\n",
        "        (2,2) : [(2, 1, 'right'), (1, 2, 'down')]\n",
        "    }\n",
        "    \n",
        "    \n",
        "    def __init__(self, initial_layout, goal_layout ):\n",
        "        pos0 = number_position_in_layout( 0, initial_layout )\n",
        "        # Initial state is pair giving initial position of space\n",
        "        # and the initial tile layout.\n",
        "        self.initial_state = ( pos0, initial_layout)\n",
        "        self.goal_layout   = goal_layout\n",
        "        \n",
        "\n",
        "    ### I just use the position on the board (state[0]) to look up the \n",
        "    ### appropriate sequence of possible actions.\n",
        "    def possible_actions(self, state ):\n",
        "        actions =  EightPuzzle.action_dict[state[0]]\n",
        "        actions_with_tile_num = []\n",
        "        for r, c, d in actions:\n",
        "            tile_num = state[1][r][c] ## find number of moving tile\n",
        "            # construct the action representation including the tile number\n",
        "            actions_with_tile_num.append( (r, c, (tile_num,d)) )\n",
        "        return actions_with_tile_num\n",
        "\n",
        "    def successor(self, state, action):\n",
        "        old0row, old0col  =  state[0]    # get start position\n",
        "        new0row, new0col, move = action  # unpack the action representation\n",
        "        moving_number, _ = move\n",
        "        ## Make a copy of the old layout\n",
        "        newlayout = deepcopy(state[1])\n",
        "        # Swap the positions of the new number and the space (rep by 0)\n",
        "        newlayout[old0row][old0col] = moving_number\n",
        "        newlayout[new0row][new0col] = 0\n",
        "        return ((new0row, new0col), newlayout )\n",
        "    \n",
        "    def goal_test(self,state):\n",
        "        return state[1] == self.goal_layout\n",
        "    \n",
        "    def display_action(self, action):\n",
        "        _,_, move = action\n",
        "        tile_num, direction = move\n",
        "        print(\"Move tile\", tile_num, direction)\n",
        "        \n",
        "    def display_state(self,state):\n",
        "        for row in state[1]:\n",
        "            nums = [ (n if n>0 else '.') for n in row]\n",
        "            print( \"   \", nums[0], nums[1], nums[2] )"
      ]
    },
    {
      "cell_type": "code",
      "execution_count": 40,
      "metadata": {
        "id": "a8dWjjniWO0u"
      },
      "outputs": [],
      "source": [
        "EP = EightPuzzle( LAYOUT_1, NORMAL_GOAL )"
      ]
    },
    {
      "cell_type": "code",
      "execution_count": 41,
      "metadata": {
        "colab": {
          "base_uri": "https://localhost:8080/"
        },
        "id": "jPXmWwMjWO0v",
        "outputId": "80beac8d-96e3-4eae-ed40-d5bd7a05fbe5"
      },
      "outputs": [
        {
          "output_type": "stream",
          "name": "stdout",
          "text": [
            "  % Total    % Received % Xferd  Average Speed   Time    Time     Time  Current\n",
            "                                 Dload  Upload   Total   Spent    Left  Speed\n",
            "\r  0     0    0     0    0     0      0      0 --:--:-- --:--:-- --:--:--     0\r100  4731  100  4731    0     0  21120      0 --:--:-- --:--:-- --:--:-- 21120\n"
          ]
        }
      ],
      "source": [
        "!mkdir -p bbmodcache\n",
        "!curl http://bb-ai.net.s3.amazonaws.com/bb-python-modules/crazy8heuristics.py > bbmodcache/crazy8heuristics.py\n",
        "from bbmodcache.crazy8heuristics import bb_misplaced_tiles, bb_manhattan"
      ]
    },
    {
      "cell_type": "code",
      "execution_count": 42,
      "metadata": {
        "id": "J3GUqRj9WO0x"
      },
      "outputs": [],
      "source": [
        "def cost(path, state):\n",
        "        return len(path)\n",
        "\n"
      ]
    },
    {
      "cell_type": "code",
      "execution_count": 43,
      "metadata": {
        "id": "TIOFbkLFWO0y"
      },
      "outputs": [],
      "source": [
        "## Specify and execute an A* search run here:\n",
        "\n",
        "\n"
      ]
    },
    {
      "cell_type": "code",
      "source": [],
      "metadata": {
        "id": "sOuSUPegs5aw"
      },
      "execution_count": 43,
      "outputs": []
    },
    {
      "cell_type": "markdown",
      "source": [
        "Random 8 puzzles:\n",
        "[[6,2,0],[7,5,3],[4,8,1]]\n",
        "[[7,4,8],[6,3,1],[2,0,5]]\n",
        "[[2,5,8],[3,4,1],[7,6,0]]\n",
        "[[6,5,4],[7,3,2],[0,1,8]]\n",
        "[[5,1,6],[4,2,8],[0,7,3]]\n",
        "\n",
        "One away from solution\n",
        "[[1,2,3],[4,5,6],[7,0,8]]\n",
        "[[1,2,3],[4,5,0],[7,8,6]]\n",
        "[[1,0,3],[8,2,4],[7,6,5]]\n",
        "[[1,2,3],[8,4,0],[7,6,5]]\n",
        "\n",
        "Three away from solution\n",
        "[[1,2,3],[0,4,6],[7,5,8]]\n",
        "[[1,0,2],[4,5,3],[7,8,6]]\n",
        "[[2,0,3],[1,8,4],[7,6,5]]\n",
        "[[1,2,3],[8,4,0],[7,6,5]]\n",
        "\n",
        "The goal\n",
        "[[1,2,3],[4,5,6],[7,8,0]]\n",
        "[[1,2,3],[8,0,4],[7,6,5]]"
      ],
      "metadata": {
        "id": "tvVLCC3Cs7Ko"
      }
    },
    {
      "cell_type": "code",
      "source": [
        "def insert_ep_data(data, is_spiral):\n",
        "  random_puzzles = []\n",
        "  for ep in data:\n",
        "    random_puzzles.append(EightPuzzle(ep, NORMAL_GOAL if not is_spiral else SPIRAL_GOAL))\n",
        "  return random_puzzles\n"
      ],
      "metadata": {
        "id": "qUbIMldXtrZx"
      },
      "execution_count": 44,
      "outputs": []
    },
    {
      "cell_type": "code",
      "source": [],
      "metadata": {
        "id": "3y13aU8D8ukD"
      },
      "execution_count": 50,
      "outputs": []
    },
    {
      "cell_type": "code",
      "source": [
        "random_puzzle_data = [[[6,2,0],\n",
        "                  [7,5,3],\n",
        "                  [4,8,1]], \n",
        "\n",
        "                  [[7,4,8],\n",
        "                  [6,3,1],\n",
        "                  [2,0,5]], \n",
        "\n",
        "                  [[2,5,8],\n",
        "                  [3,4,1],\n",
        "                  [7,6,0]], \n",
        "\n",
        "                  [[6,5,4],\n",
        "                  [7,3,2],\n",
        "                  [0,1,8]], \n",
        "\n",
        "                  [[5,1,6],\n",
        "                  [4,2,8],\n",
        "                  [0,7,3]]]\n",
        "\n",
        "\n",
        "one_from_solution_data = [\n",
        "[[1,2,3],[4,5,6],[7,0,8]],\n",
        "[[1,2,3],[4,5,0],[7,8,6]]]\n",
        "\n",
        "one_from_spiral_data = [\n",
        "[[1,0,3],[8,2,4],[7,6,5]],\n",
        "[[1,2,3],[8,4,0],[7,6,5]]]\n",
        "\n",
        "three_from_solution_data = [\n",
        "[[1,2,3],[0,4,6],[7,5,8]],\n",
        "[[1,0,2],[4,5,3],[7,8,6]]\n",
        "]\n",
        "\n",
        "three_from_spiral_data = [\n",
        "[[2,0,3],[1,8,4],[7,6,5]],\n",
        "[[1,2,3],[8,4,0],[7,6,5]]]\n"
      ],
      "metadata": {
        "id": "Zj90dR-htC5l"
      },
      "execution_count": 46,
      "outputs": []
    },
    {
      "cell_type": "code",
      "source": [
        "import contextlib\n",
        "import io\n",
        "\n",
        "def make_table_row(search_method, puzzles):\n",
        "    output = ''\n",
        "    i = 0\n",
        "    output += '[\\n'\n",
        "    for p in puzzles:\n",
        "        with io.StringIO() as buf, contextlib.redirect_stdout(buf):\n",
        "            search_result = search(p, search_method, 100, loop_check=True, dots=False, show_path=False, return_info=True)\n",
        "            # Get the values of the dictionary returned by search()\n",
        "            values = search_result.values()\n",
        "        # Append the values to the output string\n",
        "        for v in values:\n",
        "          if(i % 3 == 0):\n",
        "            output += '{'\n",
        "          \n",
        "          output += '{}'.format(v).replace('{', '').replace('\\'','\"' ).replace('True', 'true').replace('False', 'false').replace('None', 'null')\n",
        "\n",
        "          if i != v.__len__():\n",
        "            output += ','\n",
        "          if(i % 2 == 0):\n",
        "            output += '}'        \n",
        "          i += 1\n",
        "        output += '\\n'\n",
        "    output += '\\n]'\n",
        "    return output\n"
      ],
      "metadata": {
        "id": "1s0HOY9q9WaV"
      },
      "execution_count": 106,
      "outputs": []
    },
    {
      "cell_type": "code",
      "source": [
        "print(make_table_row('DF/LIFO', insert_ep_data(random_puzzle_data, False)))"
      ],
      "metadata": {
        "colab": {
          "base_uri": "https://localhost:8080/"
        },
        "id": "0Y8UcP7o3OP7",
        "outputId": "7f3c84ad-0b6e-4d26-ff2b-06e651920439"
      },
      "execution_count": 107,
      "outputs": [
        {
          "output_type": "stream",
          "name": "stdout",
          "text": [
            "[\n",
            "{\"problem\": \"EightPuzzle\", \"mode\": \"DF/LIFO\", \"max_nodes\": 100, \"loop_check\": true, \"randomise\": false, \"cost\": null, \"heuristic\": null, \"dots\": false},}\"termination_condition\": \"NODE_LIMIT_EXCEEDED\", \"goal_state\": null, \"path\": null, \"path_length\": null},\"nodes_generated\": 158, \"nodes_tested\": 55, \"nodes_discarded\": 57, \"distinct_states_seen\": 101, \"nodes_left_in_queue\": 45, \"time_taken\": 0.005558658000154537},}\n",
            "{\"problem\": \"EightPuzzle\", \"mode\": \"DF/LIFO\", \"max_nodes\": 100, \"loop_check\": true, \"randomise\": false, \"cost\": null, \"heuristic\": null, \"dots\": false},\"termination_condition\": \"NODE_LIMIT_EXCEEDED\", \"goal_state\": null, \"path\": null, \"path_length\": null}}\"nodes_generated\": 157, \"nodes_tested\": 55, \"nodes_discarded\": 56, \"distinct_states_seen\": 101, \"nodes_left_in_queue\": 45, \"time_taken\": 0.004860477999955037},\n",
            "{\"problem\": \"EightPuzzle\", \"mode\": \"DF/LIFO\", \"max_nodes\": 100, \"loop_check\": true, \"randomise\": false, \"cost\": null, \"heuristic\": null, \"dots\": false},}\"termination_condition\": \"NODE_LIMIT_EXCEEDED\", \"goal_state\": null, \"path\": null, \"path_length\": null},\"nodes_generated\": 157, \"nodes_tested\": 55, \"nodes_discarded\": 56, \"distinct_states_seen\": 101, \"nodes_left_in_queue\": 45, \"time_taken\": 0.007132017999992968},}\n",
            "{\"problem\": \"EightPuzzle\", \"mode\": \"DF/LIFO\", \"max_nodes\": 100, \"loop_check\": true, \"randomise\": false, \"cost\": null, \"heuristic\": null, \"dots\": false},\"termination_condition\": \"NODE_LIMIT_EXCEEDED\", \"goal_state\": null, \"path\": null, \"path_length\": null},}\"nodes_generated\": 158, \"nodes_tested\": 55, \"nodes_discarded\": 57, \"distinct_states_seen\": 101, \"nodes_left_in_queue\": 45, \"time_taken\": 0.002916166999966663},\n",
            "{\"problem\": \"EightPuzzle\", \"mode\": \"DF/LIFO\", \"max_nodes\": 100, \"loop_check\": true, \"randomise\": false, \"cost\": null, \"heuristic\": null, \"dots\": false},}\"termination_condition\": \"NODE_LIMIT_EXCEEDED\", \"goal_state\": null, \"path\": null, \"path_length\": null},\"nodes_generated\": 158, \"nodes_tested\": 55, \"nodes_discarded\": 57, \"distinct_states_seen\": 101, \"nodes_left_in_queue\": 45, \"time_taken\": 0.0026273180001226137},}\n",
            "\n",
            "]\n"
          ]
        }
      ]
    },
    {
      "cell_type": "markdown",
      "source": [],
      "metadata": {
        "id": "96bXSxfP3Zu6"
      }
    }
  ],
  "metadata": {
    "kernelspec": {
      "display_name": "Python 3",
      "language": "python",
      "name": "python3"
    },
    "language_info": {
      "codemirror_mode": {
        "name": "ipython",
        "version": 3
      },
      "file_extension": ".py",
      "mimetype": "text/x-python",
      "name": "python",
      "nbconvert_exporter": "python",
      "pygments_lexer": "ipython3",
      "version": "3.7.8"
    },
    "colab": {
      "provenance": [],
      "history_visible": true,
      "include_colab_link": true
    }
  },
  "nbformat": 4,
  "nbformat_minor": 0
}