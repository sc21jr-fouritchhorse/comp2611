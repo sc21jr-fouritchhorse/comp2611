{
 "cells": [
  {
   "cell_type": "code",
   "execution_count": null,
   "metadata": {},
   "outputs": [],
   "source": [
    "from bbSearch import SearchProblem, search"
   ]
  },
  {
   "cell_type": "code",
   "execution_count": null,
   "metadata": {},
   "outputs": [],
   "source": [
    "\"\"\"\n",
    "Question A.1\n",
    "Get markdown for a table of the following \n",
    "Repeat n (5 if manual, 20 if automatic) times for each of:\n",
    "\n",
    "Breadth First,\n",
    "Depth First,\n",
    "Best First,\n",
    "A*\n",
    "\n",
    "| Success (Y or N) | total solution | size of solution | running time | memory used |\n",
    "\"\"\""
   ]
  }
 ],
 "metadata": {
  "language_info": {
   "name": "python"
  },
  "orig_nbformat": 4
 },
 "nbformat": 4,
 "nbformat_minor": 2
}
